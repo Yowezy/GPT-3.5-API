{
 "cells": [
  {
   "cell_type": "code",
   "execution_count": 21,
   "metadata": {},
   "outputs": [],
   "source": [
    "import openai\n",
    "\n",
    "openai.api_key = open(\"key.text\",\"r\").read().strip('\\n')"
   ]
  },
  {
   "cell_type": "code",
   "execution_count": 22,
   "metadata": {},
   "outputs": [
    {
     "name": "stdout",
     "output_type": "stream",
     "text": [
      "{\n",
      "  \"choices\": [\n",
      "    {\n",
      "      \"finish_reason\": \"stop\",\n",
      "      \"index\": 0,\n",
      "      \"message\": {\n",
      "        \"content\": \"\\n\\nHello! How can I assist you today?\",\n",
      "        \"role\": \"assistant\"\n",
      "      }\n",
      "    }\n",
      "  ],\n",
      "  \"created\": 1678935310,\n",
      "  \"id\": \"chatcmpl-6uY3iRoBZG2K7pEwIWkm4iWMmaL9T\",\n",
      "  \"model\": \"gpt-3.5-turbo-0301\",\n",
      "  \"object\": \"chat.completion\",\n",
      "  \"usage\": {\n",
      "    \"completion_tokens\": 10,\n",
      "    \"prompt_tokens\": 10,\n",
      "    \"total_tokens\": 20\n",
      "  }\n",
      "}\n"
     ]
    }
   ],
   "source": [
    "completion = openai.ChatCompletion.create(\n",
    "    model=\"gpt-3.5-turbo\", \n",
    "    messages=[{\"role\": \"user\", \"content\": \"Hello OpenAI\"}]\n",
    ")\n",
    "\n",
    "print(completion)"
   ]
  },
  {
   "cell_type": "code",
   "execution_count": 23,
   "metadata": {},
   "outputs": [
    {
     "name": "stdout",
     "output_type": "stream",
     "text": [
      "\n",
      "\n",
      "Hello! How can I assist you today?\n"
     ]
    }
   ],
   "source": [
    "replyContent = completion.choices[0].message.content\n",
    "print(replyContent)"
   ]
  },
  {
   "cell_type": "code",
   "execution_count": 24,
   "metadata": {},
   "outputs": [
    {
     "name": "stdout",
     "output_type": "stream",
     "text": [
      "User Input: how away is the moon from earth?\n"
     ]
    }
   ],
   "source": [
    "messageHistory = []\n",
    "userInput =  input(\"Ask GPT: \")\n",
    "\n",
    "print(\"User Input:\", userInput)\n"
   ]
  },
  {
   "cell_type": "code",
   "execution_count": 25,
   "metadata": {},
   "outputs": [],
   "source": [
    "messageHistory.append({\"role\": \"user\", \"content\": userInput})"
   ]
  },
  {
   "cell_type": "code",
   "execution_count": 26,
   "metadata": {},
   "outputs": [
    {
     "name": "stdout",
     "output_type": "stream",
     "text": [
      "\n",
      "\n",
      "The average distance from the Moon to the Earth is about 238,855 miles (384,400 kilometers). However, this distance varies slightly as the Moon orbits the Earth in an elliptical path. At its farthest point (apogee), the Moon can be as far as 252,088 miles (405,696 kilometers) away from Earth, while at its closest point (perigee), it can be as close as 225,623 miles (363,104 kilometers) away.\n"
     ]
    }
   ],
   "source": [
    "completion = openai.ChatCompletion.create(\n",
    "    model=\"gpt-3.5-turbo\", \n",
    "    messages=messageHistory,\n",
    ")\n",
    "\n",
    "replyContent = completion.choices[0].message.content\n",
    "print(replyContent)"
   ]
  },
  {
   "cell_type": "code",
   "execution_count": 27,
   "metadata": {},
   "outputs": [],
   "source": [
    "messageHistory.append({\"role\": \"assistant\", \"content\": replyContent})"
   ]
  },
  {
   "cell_type": "code",
   "execution_count": 28,
   "metadata": {},
   "outputs": [
    {
     "name": "stdout",
     "output_type": "stream",
     "text": [
      "User Input: how far away is mars?\n",
      "\n",
      "chatGPT reply:  The distance between Mars and Earth varies depending on their respective positions in their orbits around the sun, which are not perfectly circular. At their closest approach (opposition), Mars can be about 34 million miles (54.6 million kilometers) away from Earth, while at their farthest distance (aphelion), the distance can be about 249 million miles (401 million kilometers) apart. The average distance between Mars and Earth is around 140 million miles (225 million kilometers).\n"
     ]
    }
   ],
   "source": [
    "\n",
    "userInput = input(\">Enter: \")\n",
    "print(\"User Input:\", userInput)\n",
    "print()\n",
    "messageHistory.append({\"role\": \"assistant\", \"content\": userInput})\n",
    "\n",
    "completion = openai.ChatCompletion.create(\n",
    "    model=\"gpt-3.5-turbo\", \n",
    "    messages=messageHistory,\n",
    ")\n",
    "\n",
    "replyContent = completion.choices[0].message.content \n",
    "print(\"chatGPT reply: \", replyContent)\n"
   ]
  },
  {
   "cell_type": "code",
   "execution_count": 29,
   "metadata": {},
   "outputs": [
    {
     "name": "stdout",
     "output_type": "stream",
     "text": [
      "[{'role': 'user', 'content': 'how away is the moon from earth?'}, {'role': 'assistant', 'content': '\\n\\nThe average distance from the Moon to the Earth is about 238,855 miles (384,400 kilometers). However, this distance varies slightly as the Moon orbits the Earth in an elliptical path. At its farthest point (apogee), the Moon can be as far as 252,088 miles (405,696 kilometers) away from Earth, while at its closest point (perigee), it can be as close as 225,623 miles (363,104 kilometers) away.'}, {'role': 'assistant', 'content': 'how far away is mars?'}]\n"
     ]
    }
   ],
   "source": [
    "print(messageHistory)"
   ]
  },
  {
   "cell_type": "code",
   "execution_count": 30,
   "metadata": {},
   "outputs": [
    {
     "name": "stdout",
     "output_type": "stream",
     "text": [
      "User Input:  how far away is mars?\n",
      "\n",
      "\n",
      "\n",
      "Mars can be anywhere from 34.8 million miles (56 million kilometers) to 249 million miles (401 million kilometers) away from Earth depending on the varying positions of the two planets in their respective orbits. The average distance between Mars and Earth is 140 million miles (225 million kilometers).\n",
      "\n",
      "User Input:  tell me a joke about programming\n",
      "\n",
      "Why do programmers prefer dark mode? Because light attracts bugs!\n",
      "\n"
     ]
    }
   ],
   "source": [
    "messageHistory = []\n",
    "\n",
    "def chat(inp, role=\"user\"):\n",
    "    messageHistory.append({\"role\": role, \"content\": inp})\n",
    "    \n",
    "    completion = openai.ChatCompletion.create(\n",
    "        model=\"gpt-3.5-turbo\",\n",
    "        messages= messageHistory,\n",
    "    )\n",
    "    \n",
    "    replyContent = completion.choices[0].message.content\n",
    "    print(replyContent)\n",
    "    \n",
    "    messageHistory.append({\"role\": \"assistant\" , \"content\": replyContent})\n",
    "    return replyContent\n",
    "\n",
    "for i in range(2):\n",
    "    userInput = input(\"Ask chatGPT: \")\n",
    "    print (\"User Input: \", userInput)\n",
    "    print()\n",
    "    chat(userInput)\n",
    "    print()\n",
    "    \n",
    "    "
   ]
  }
 ],
 "metadata": {
  "kernelspec": {
   "display_name": "Python 3",
   "language": "python",
   "name": "python3"
  },
  "language_info": {
   "codemirror_mode": {
    "name": "ipython",
    "version": 3
   },
   "file_extension": ".py",
   "mimetype": "text/x-python",
   "name": "python",
   "nbconvert_exporter": "python",
   "pygments_lexer": "ipython3",
   "version": "3.10.4"
  },
  "orig_nbformat": 4
 },
 "nbformat": 4,
 "nbformat_minor": 2
}
